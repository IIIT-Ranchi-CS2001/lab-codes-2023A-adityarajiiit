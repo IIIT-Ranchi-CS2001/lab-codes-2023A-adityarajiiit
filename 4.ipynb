{
 "cells": [
  {
   "cell_type": "code",
   "execution_count": 2,
   "metadata": {},
   "outputs": [
    {
     "name": "stdout",
     "output_type": "stream",
     "text": [
      "palindrome\n",
      "not\n",
      "palindrome\n"
     ]
    }
   ],
   "source": [
    "a=input(\"Enter a sentence\")\n",
    "b=a.split()\n",
    "count=0\n",
    "for i in b:\n",
    "    c=i[::-1]\n",
    "    if i==c:\n",
    "        print(\"palindrome\")\n",
    "        count+=1\n",
    "    else:\n",
    "        print(\"not\") \n",
    "print(count)           "
   ]
  },
  {
   "cell_type": "code",
   "execution_count": 23,
   "metadata": {},
   "outputs": [
    {
     "data": {
      "text/plain": [
       "['CS-2001:Computer architecture',\n",
       " 'CS-2002:Computer Algo',\n",
       " 'CS-2003:Python Programming',\n",
       " 'MA-1001:Maths-3']"
      ]
     },
     "execution_count": 23,
     "metadata": {},
     "output_type": "execute_result"
    }
   ],
   "source": [
    "a=[\"CS-2001\",\"CS-2002\",\"CS-2003\",\"MA-1001\"]\n",
    "b=[\"Computer architecture\",\"Computer Algo\",\"Python Programming\",\"Maths-3\"]\n",
    "c=dict(zip(a,b))\n",
    "d=[]\n",
    "for(i,j) in c.items():\n",
    "    c=i+\":\"+j\n",
    "    d.append(c)\n",
    "d\n",
    "\n"
   ]
  },
  {
   "cell_type": "code",
   "execution_count": 28,
   "metadata": {},
   "outputs": [
    {
     "name": "stdout",
     "output_type": "stream",
     "text": [
      "{'kartik', 'aditya', 'aryan', 'rishabh'} {'suryanshu', 'aditya', 'aryan', 'rishabh'} {'rishabh', 'suryanshu', 'kartik', 'aditya', 'aryan'} {'aditya', 'aryan', 'rishabh'} {'kartik'} {'suryanshu'} {'kartik', 'suryanshu'}\n"
     ]
    }
   ],
   "source": [
    "a={i for i in input(\"Enter all the singers\").split()}\n",
    "b={i for i in input(\"Enter all the dancers\").split()}\n",
    "c=a.union(b)\n",
    "d=a.intersection(b)\n",
    "e=a.difference(b)\n",
    "f=b.difference(a)\n",
    "g=e.union(f)\n",
    "print(a,b,c,d,e,f,g)"
   ]
  },
  {
   "cell_type": "code",
   "execution_count": 33,
   "metadata": {},
   "outputs": [
    {
     "name": "stdout",
     "output_type": "stream",
     "text": [
      "[1, 2, 2, 2, 3, 3, 4, 4, 5, 5, 5, 5, 6, 6] 3.7857142857142856 [4, 5] Counter({5: 4, 2: 3, 3: 2, 4: 2, 6: 2, 1: 1}) [(5, 4)]\n"
     ]
    }
   ],
   "source": [
    "from collections import Counter\n",
    "a=[int(i) for i in input().split()]\n",
    "b=sum(a)/len(a)\n",
    "if len(a)%2!=0:\n",
    "    c=a[len(a)//2]\n",
    "else:\n",
    "    c=[a[len(a)//2],a[(len(a)//2) + 1]]    \n",
    "d=Counter(a)\n",
    "e=d.most_common(1)\n",
    "print(a,b,c,d,e)\n"
   ]
  },
  {
   "cell_type": "code",
   "execution_count": null,
   "metadata": {},
   "outputs": [],
   "source": []
  }
 ],
 "metadata": {
  "kernelspec": {
   "display_name": "Python 3",
   "language": "python",
   "name": "python3"
  },
  "language_info": {
   "codemirror_mode": {
    "name": "ipython",
    "version": 3
   },
   "file_extension": ".py",
   "mimetype": "text/x-python",
   "name": "python",
   "nbconvert_exporter": "python",
   "pygments_lexer": "ipython3",
   "version": "3.12.6"
  }
 },
 "nbformat": 4,
 "nbformat_minor": 2
}
