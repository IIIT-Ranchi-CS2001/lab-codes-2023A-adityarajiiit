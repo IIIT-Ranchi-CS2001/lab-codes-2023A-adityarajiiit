{
 "cells": [
  {
   "cell_type": "code",
   "execution_count": 2,
   "metadata": {},
   "outputs": [
    {
     "data": {
      "text/plain": [
       "5.196152422706632"
      ]
     },
     "execution_count": 2,
     "metadata": {},
     "output_type": "execute_result"
    }
   ],
   "source": [
    "a=(1,2,3)\n",
    "b=(4,5,6)\n",
    "c=((b[0]-a[0])**2+(b[1]-a[1])**2+(b[2]-a[2])**2)**0.5\n",
    "c"
   ]
  },
  {
   "cell_type": "code",
   "execution_count": 3,
   "metadata": {},
   "outputs": [
    {
     "name": "stdout",
     "output_type": "stream",
     "text": [
      "(x-2.0)=1.0(y-4.0)\n"
     ]
    }
   ],
   "source": [
    "a=[float(i) for i in input(\"Enter line 1 coordinates\").split()]\n",
    "b=[float(i) for i in input(\"Enter line 2 coordinates\").split()]\n",
    "print(f\"(x-{a[0]})={(a[0]-b[0])/(a[1]-b[1])}(y-{b[0]})\")"
   ]
  },
  {
   "cell_type": "code",
   "execution_count": 5,
   "metadata": {},
   "outputs": [
    {
     "data": {
      "text/plain": [
       "{'a': 2, 'd': 1, 'i': 1, 't': 1, 'y': 1}"
      ]
     },
     "execution_count": 5,
     "metadata": {},
     "output_type": "execute_result"
    }
   ],
   "source": [
    "from collections import Counter\n",
    "a=input(\"Write the string\")\n",
    "b=dict(Counter(a))\n",
    "b\n"
   ]
  },
  {
   "cell_type": "code",
   "execution_count": 18,
   "metadata": {},
   "outputs": [
    {
     "name": "stdout",
     "output_type": "stream",
     "text": [
      "[('Aditya', 'kryan', 'Harshal'), (1002, 1003, 1004), ('Tiger hill', 'Mall Road', 'West Point')]\n",
      "[('Aditya', 1002, 'Tiger hill'), ('kryan', 1003, 'Mall Road'), ('Harshal', 1004, 'West Point')]\n"
     ]
    }
   ],
   "source": [
    "a=[\"Aditya\",\"kryan\",\"Harshal\"]\n",
    "b=[1002,1003,1004]\n",
    "c=[\"Tiger hill\",\"Mall Road\",\"West Point\"]\n",
    "d=[tuple(a),tuple(b),tuple(c)]\n",
    "print(d)\n",
    "e=zip(a,b,c)\n",
    "f=list(e)\n",
    "print(f)"
   ]
  },
  {
   "cell_type": "code",
   "execution_count": 27,
   "metadata": {},
   "outputs": [
    {
     "name": "stdout",
     "output_type": "stream",
     "text": [
      "[('Aditya', 1002, 'Tiger hill'), ('Harshal', 1004, 'West Point'), ('kryan', 1003, 'Mall Road')]\n",
      "[('Aditya', 1002, 'Tiger hill'), ('Harshal', 1004, 'West Point'), ('kryan', 1003, 'Mall Road')]\n"
     ]
    }
   ],
   "source": [
    "k=sorted(f)\n",
    "print(k)\n",
    "\n",
    "for i in range(len(k)-1):\n",
    "    for j in range(i,len(k)):\n",
    "        if(str(f[i][0]) > str(f[j][0])):\n",
    "            f[i], f[j] = f[j], f[i]\n",
    "print(f)            \n",
    "\n"
   ]
  },
  {
   "cell_type": "code",
   "execution_count": 28,
   "metadata": {},
   "outputs": [
    {
     "name": "stdout",
     "output_type": "stream",
     "text": [
      "[('Aditya', 1002, 'Tiger hill'), ('kryan', 1003, 'Mall Road'), ('Harshal', 1004, 'West Point')]\n"
     ]
    }
   ],
   "source": [
    "def myzip(e):\n",
    "    a=[\"Aditya\",\"kryan\",\"Harshal\"]\n",
    "    b=[1002,1003,1004]\n",
    "    c=[\"Tiger hill\",\"Mall Road\",\"West Point\"]\n",
    "    l=bool(len(a)==len(b)==len(c))\n",
    "   \n",
    "    \n",
    "    if e ==True:\n",
    "        if l==True:\n",
    "            d=zip(a,b,c)\n",
    "            f=list(d)\n",
    "        else:\n",
    "            f=[]    \n",
    "    else :\n",
    "        d=zip(a,b,c)\n",
    "        f=list(d)\n",
    "    return f\n",
    "print(myzip(True))    \n",
    "\n",
    "                \n",
    "\n",
    "\n",
    "\n",
    "\n",
    "\n",
    "\n"
   ]
  },
  {
   "cell_type": "code",
   "execution_count": 35,
   "metadata": {},
   "outputs": [
    {
     "data": {
      "text/plain": [
       "[('Aditya', 1002, 'Tiger hill'),\n",
       " ('Harshal', 1004, 'West Point'),\n",
       " ('kryan', 1003, 'Mall Road')]"
      ]
     },
     "execution_count": 35,
     "metadata": {},
     "output_type": "execute_result"
    }
   ],
   "source": [
    "def my_sort(a, key):\n",
    "    if key == 0:\n",
    "        c = sorted(a, key=lambda x: x[0])\n",
    "    elif key == 1:\n",
    "        c = sorted(a, key=lambda x: x[1])\n",
    "    elif key == 2:\n",
    "        c = sorted(a, key=lambda x: x[2])\n",
    "    else:\n",
    "        c = []\n",
    "    return c        \n",
    "my_sort(a=myzip(True), key=0)          \n",
    "\n"
   ]
  },
  {
   "cell_type": "code",
   "execution_count": 36,
   "metadata": {},
   "outputs": [
    {
     "name": "stdout",
     "output_type": "stream",
     "text": [
      "5\n",
      "5\n",
      "5\n"
     ]
    }
   ],
   "source": [
    "def my_max(*args):\n",
    "    \n",
    "    \n",
    "    max_value = args[0]\n",
    "    for value in args:\n",
    "        if value > max_value:\n",
    "            max_value = value\n",
    "    return max_value\n",
    "\n",
    "print(my_max(*[1, 2, 3, 4, 5]))  \n",
    "print(my_max(*{1, 2, 3, 4, 5}))  \n",
    "print(my_max(*(1, 2, 3, 4, 5)))  "
   ]
  }
 ],
 "metadata": {
  "kernelspec": {
   "display_name": "Python 3",
   "language": "python",
   "name": "python3"
  },
  "language_info": {
   "codemirror_mode": {
    "name": "ipython",
    "version": 3
   },
   "file_extension": ".py",
   "mimetype": "text/x-python",
   "name": "python",
   "nbconvert_exporter": "python",
   "pygments_lexer": "ipython3",
   "version": "3.12.7"
  }
 },
 "nbformat": 4,
 "nbformat_minor": 2
}
