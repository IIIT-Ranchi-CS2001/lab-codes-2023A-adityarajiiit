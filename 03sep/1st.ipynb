{
 "cells": [
  {
   "cell_type": "code",
   "execution_count": 11,
   "metadata": {},
   "outputs": [
    {
     "name": "stdout",
     "output_type": "stream",
     "text": [
      "mAHA bHARAT\n"
     ]
    }
   ],
   "source": [
    "a=\"Maha Bharat\"\n",
    "b=a.swapcase();\n",
    "print(b)"
   ]
  },
  {
   "cell_type": "code",
   "execution_count": 5,
   "metadata": {},
   "outputs": [
    {
     "name": "stdout",
     "output_type": "stream",
     "text": [
      "Bharat\n"
     ]
    }
   ],
   "source": [
    "b=a.split(' ')\n",
    "print(b[1])"
   ]
  },
  {
   "cell_type": "code",
   "execution_count": 7,
   "metadata": {},
   "outputs": [
    {
     "name": "stdout",
     "output_type": "stream",
     "text": [
      "BharatBharatBharat\n"
     ]
    }
   ],
   "source": [
    "print(b[1]*3)"
   ]
  },
  {
   "cell_type": "code",
   "execution_count": 10,
   "metadata": {},
   "outputs": [
    {
     "name": "stdout",
     "output_type": "stream",
     "text": [
      "Mera Bharat\n"
     ]
    }
   ],
   "source": [
    "print(\"Mera \" + b[1])\n"
   ]
  },
  {
   "cell_type": "code",
   "execution_count": 17,
   "metadata": {},
   "outputs": [
    {
     "name": "stdout",
     "output_type": "stream",
     "text": [
      "Mera Bharat Mahan\n"
     ]
    }
   ],
   "source": [
    "c=\"Bharat\"\n",
    "print(\"Mera \" + c + \" Mahan\")"
   ]
  },
  {
   "cell_type": "code",
   "execution_count": 25,
   "metadata": {},
   "outputs": [
    {
     "name": "stdout",
     "output_type": "stream",
     "text": [
      "17\n"
     ]
    }
   ],
   "source": [
    "s=\"Ba Ba Black Sheep\"\n",
    "print(s.__len__())"
   ]
  },
  {
   "cell_type": "code",
   "execution_count": 30,
   "metadata": {},
   "outputs": [
    {
     "name": "stdout",
     "output_type": "stream",
     "text": [
      "14\n",
      "15\n"
     ]
    }
   ],
   "source": [
    "for i in range(s.__len__()):\n",
    "    if s[i]=='e':\n",
    "        print(i)"
   ]
  },
  {
   "cell_type": "code",
   "execution_count": 31,
   "metadata": {},
   "outputs": [
    {
     "name": "stdout",
     "output_type": "stream",
     "text": [
      "3\n"
     ]
    }
   ],
   "source": [
    "count=0\n",
    "for i in range(s.__len__()):\n",
    "    if s[i]=='a':\n",
    "        count=count+1\n",
    "print(count)        \n",
    "\n",
    "        "
   ]
  },
  {
   "cell_type": "code",
   "execution_count": 33,
   "metadata": {},
   "outputs": [
    {
     "name": "stdout",
     "output_type": "stream",
     "text": [
      "Ta Ta Black Sheep\n"
     ]
    }
   ],
   "source": [
    "s=\"Ba Ba Black Sheep\"\n",
    "p=s.replace('B','T',2)\n",
    "print(p)\n",
    "            \n",
    "\n",
    "        \n",
    "\n"
   ]
  },
  {
   "cell_type": "code",
   "execution_count": 37,
   "metadata": {},
   "outputs": [
    {
     "name": "stdout",
     "output_type": "stream",
     "text": [
      "Its Palindrome\n"
     ]
    }
   ],
   "source": [
    "s=input(\"enter a string\")\n",
    "k=s[::-1]\n",
    "if k==s:\n",
    "    print(\"Its Palindrome\")\n",
    "else:\n",
    "    print(\"Not Palindrome\")    "
   ]
  },
  {
   "cell_type": "code",
   "execution_count": null,
   "metadata": {},
   "outputs": [],
   "source": [
    "a=input(\"Enter your name\")\n",
    "b=input(\"Enter your roll number\")\n",
    "c=int(input(\"Enter your marks\"))\n",
    "if c>=90:\n",
    "    d=10\n",
    "    e=\"OUTSTANDING\"\n",
    "elif c>=80 and c<90:\n",
    "    d=9\n",
    "    e=\"VERY GOOD\"\n",
    "elif c>=70 and c<80:\n",
    "    d=8\n",
    "    e=\"GOOD\"\n",
    "elif c>=60 and c<70:\n",
    "    d=7\n",
    "    e=\"AVERAGE\"\n",
    "elif c>=50 and c<60:\n",
    "    d=6\n",
    "    e=\"PASS\"\n",
    "else:\n",
    "    d=0\n",
    "    e=\"FAIL\"\n",
    "print(a,b,c,d,e)                \n"
   ]
  },
  {
   "cell_type": "code",
   "execution_count": 38,
   "metadata": {},
   "outputs": [],
   "source": [
    "import math"
   ]
  },
  {
   "cell_type": "code",
   "execution_count": 40,
   "metadata": {},
   "outputs": [
    {
     "name": "stdout",
     "output_type": "stream",
     "text": [
      "5.5\n",
      "4.5\n"
     ]
    }
   ],
   "source": [
    "a=int(input(\"Enter A\"))\n",
    "b=int(input(\"Enter B\"))\n",
    "c=int(input(\"Enter C\"))\n",
    "d=b*b-4*a*c\n",
    "if d==0:\n",
    "    print(-b/float(2*a))\n",
    "elif d>0:\n",
    "    print(-b + math.sqrt(d)/float(2*a))\n",
    "    print(-b - math.sqrt(d)/float(2*a))\n",
    "else :\n",
    "    print(\"Real Part : \")\n",
    "    print(-b/float(2*a))\n",
    "    print(\"Imaginary Part : \")\n",
    "    print(math.sqrt(-d)/float(2*a))    "
   ]
  }
 ],
 "metadata": {
  "kernelspec": {
   "display_name": "Python 3",
   "language": "python",
   "name": "python3"
  },
  "language_info": {
   "codemirror_mode": {
    "name": "ipython",
    "version": 3
   },
   "file_extension": ".py",
   "mimetype": "text/x-python",
   "name": "python",
   "nbconvert_exporter": "python",
   "pygments_lexer": "ipython3",
   "version": "3.12.5"
  }
 },
 "nbformat": 4,
 "nbformat_minor": 2
}
