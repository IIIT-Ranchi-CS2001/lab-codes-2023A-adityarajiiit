{
 "cells": [
  {
   "cell_type": "code",
   "execution_count": 2,
   "metadata": {},
   "outputs": [
    {
     "name": "stdout",
     "output_type": "stream",
     "text": [
      "SaReGaMaPa\n",
      "ReGaMaPa\n",
      "GaMaPa\n",
      "MaPa\n",
      "Pa\n"
     ]
    }
   ],
   "source": [
    "s=\"SaReGaMaPa\"\n",
    "while(s):\n",
    "    print(s)\n",
    "    s=s[2:]\n",
    "\n",
    "\n"
   ]
  },
  {
   "cell_type": "code",
   "execution_count": 4,
   "metadata": {},
   "outputs": [],
   "source": [
    "x=6\n",
    "if(x==5):\n",
    "    print(\"hello\")\n",
    "else:\n",
    "    pass    "
   ]
  },
  {
   "cell_type": "code",
   "execution_count": 7,
   "metadata": {},
   "outputs": [
    {
     "name": "stdout",
     "output_type": "stream",
     "text": [
      "2 is even\n"
     ]
    }
   ],
   "source": [
    "a=(int)(input(\"Enter a number\"))\n",
    "while(a%2==0):\n",
    "    print(a,'is even')\n",
    "    break\n",
    "else:\n",
    "    print(a,'is odd')    "
   ]
  }
 ],
 "metadata": {
  "kernelspec": {
   "display_name": "Python 3",
   "language": "python",
   "name": "python3"
  },
  "language_info": {
   "codemirror_mode": {
    "name": "ipython",
    "version": 3
   },
   "file_extension": ".py",
   "mimetype": "text/x-python",
   "name": "python",
   "nbconvert_exporter": "python",
   "pygments_lexer": "ipython3",
   "version": "3.12.5"
  }
 },
 "nbformat": 4,
 "nbformat_minor": 2
}
